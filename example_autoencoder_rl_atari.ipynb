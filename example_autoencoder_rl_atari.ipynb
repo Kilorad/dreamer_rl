{
 "cells": [
  {
   "cell_type": "code",
   "execution_count": 1,
   "metadata": {
    "executionInfo": {
     "elapsed": 638,
     "status": "ok",
     "timestamp": 1602319586434,
     "user": {
      "displayName": "Сергей Довгань",
      "photoUrl": "https://lh3.googleusercontent.com/a-/AOh14Gh3MZ2GUNo7qvuOUXjppWtslpJefb5Bk2H8pvQgsg=s64",
      "userId": "11204475592062912374"
     },
     "user_tz": -180
    },
    "id": "GpmKtdv6Lohe"
   },
   "outputs": [
    {
     "name": "stderr",
     "output_type": "stream",
     "text": [
      "/home/sd/anaconda3/lib/python3.7/site-packages/sklearn/linear_model/least_angle.py:30: DeprecationWarning: `np.float` is a deprecated alias for the builtin `float`. To silence this warning, use `float` by itself. Doing this will not modify any behavior and is safe. If you specifically wanted the numpy scalar type, use `np.float64` here.\n",
      "Deprecated in NumPy 1.20; for more details and guidance: https://numpy.org/devdocs/release/1.20.0-notes.html#deprecations\n",
      "  method='lar', copy_X=True, eps=np.finfo(np.float).eps,\n",
      "/home/sd/anaconda3/lib/python3.7/site-packages/sklearn/linear_model/least_angle.py:167: DeprecationWarning: `np.float` is a deprecated alias for the builtin `float`. To silence this warning, use `float` by itself. Doing this will not modify any behavior and is safe. If you specifically wanted the numpy scalar type, use `np.float64` here.\n",
      "Deprecated in NumPy 1.20; for more details and guidance: https://numpy.org/devdocs/release/1.20.0-notes.html#deprecations\n",
      "  method='lar', copy_X=True, eps=np.finfo(np.float).eps,\n",
      "/home/sd/anaconda3/lib/python3.7/site-packages/sklearn/linear_model/least_angle.py:284: DeprecationWarning: `np.float` is a deprecated alias for the builtin `float`. To silence this warning, use `float` by itself. Doing this will not modify any behavior and is safe. If you specifically wanted the numpy scalar type, use `np.float64` here.\n",
      "Deprecated in NumPy 1.20; for more details and guidance: https://numpy.org/devdocs/release/1.20.0-notes.html#deprecations\n",
      "  eps=np.finfo(np.float).eps, copy_Gram=True, verbose=0,\n",
      "/home/sd/anaconda3/lib/python3.7/site-packages/sklearn/linear_model/least_angle.py:862: DeprecationWarning: `np.float` is a deprecated alias for the builtin `float`. To silence this warning, use `float` by itself. Doing this will not modify any behavior and is safe. If you specifically wanted the numpy scalar type, use `np.float64` here.\n",
      "Deprecated in NumPy 1.20; for more details and guidance: https://numpy.org/devdocs/release/1.20.0-notes.html#deprecations\n",
      "  eps=np.finfo(np.float).eps, copy_X=True, fit_path=True,\n",
      "/home/sd/anaconda3/lib/python3.7/site-packages/sklearn/linear_model/least_angle.py:1101: DeprecationWarning: `np.float` is a deprecated alias for the builtin `float`. To silence this warning, use `float` by itself. Doing this will not modify any behavior and is safe. If you specifically wanted the numpy scalar type, use `np.float64` here.\n",
      "Deprecated in NumPy 1.20; for more details and guidance: https://numpy.org/devdocs/release/1.20.0-notes.html#deprecations\n",
      "  eps=np.finfo(np.float).eps, copy_X=True, fit_path=True,\n",
      "/home/sd/anaconda3/lib/python3.7/site-packages/sklearn/linear_model/least_angle.py:1127: DeprecationWarning: `np.float` is a deprecated alias for the builtin `float`. To silence this warning, use `float` by itself. Doing this will not modify any behavior and is safe. If you specifically wanted the numpy scalar type, use `np.float64` here.\n",
      "Deprecated in NumPy 1.20; for more details and guidance: https://numpy.org/devdocs/release/1.20.0-notes.html#deprecations\n",
      "  eps=np.finfo(np.float).eps, positive=False):\n",
      "/home/sd/anaconda3/lib/python3.7/site-packages/sklearn/linear_model/least_angle.py:1362: DeprecationWarning: `np.float` is a deprecated alias for the builtin `float`. To silence this warning, use `float` by itself. Doing this will not modify any behavior and is safe. If you specifically wanted the numpy scalar type, use `np.float64` here.\n",
      "Deprecated in NumPy 1.20; for more details and guidance: https://numpy.org/devdocs/release/1.20.0-notes.html#deprecations\n",
      "  max_n_alphas=1000, n_jobs=None, eps=np.finfo(np.float).eps,\n",
      "/home/sd/anaconda3/lib/python3.7/site-packages/sklearn/linear_model/least_angle.py:1602: DeprecationWarning: `np.float` is a deprecated alias for the builtin `float`. To silence this warning, use `float` by itself. Doing this will not modify any behavior and is safe. If you specifically wanted the numpy scalar type, use `np.float64` here.\n",
      "Deprecated in NumPy 1.20; for more details and guidance: https://numpy.org/devdocs/release/1.20.0-notes.html#deprecations\n",
      "  max_n_alphas=1000, n_jobs=None, eps=np.finfo(np.float).eps,\n",
      "/home/sd/anaconda3/lib/python3.7/site-packages/sklearn/linear_model/least_angle.py:1738: DeprecationWarning: `np.float` is a deprecated alias for the builtin `float`. To silence this warning, use `float` by itself. Doing this will not modify any behavior and is safe. If you specifically wanted the numpy scalar type, use `np.float64` here.\n",
      "Deprecated in NumPy 1.20; for more details and guidance: https://numpy.org/devdocs/release/1.20.0-notes.html#deprecations\n",
      "  eps=np.finfo(np.float).eps, copy_X=True, positive=False):\n"
     ]
    }
   ],
   "source": [
    "import sys\n",
    "import os\n",
    "import importlib\n",
    "#root = './drive/My Drive/Colab Notebooks/rl/'\n",
    "root = './'\n",
    "sys.path.insert(1, root + 'env')\n",
    "sys.path.insert(1, root + 'agents')\n",
    "sys.path.insert(1, root + 'common')\n",
    "\n",
    "import gym\n",
    "import pylab\n",
    "import random\n",
    "import sarsa_agent, model_based,dreamer,dreamer_sarsa,dreamer_sarsa_filtering,dreamer_sarsa_filtering_curio,dreamer_light\n",
    "import random_agent\n",
    "import numpy as np\n",
    "from collections import deque\n",
    "import tensorflow as tf\n",
    "import tensorflow.keras as keras\n",
    "from agents import autoencoder_rl_wrapper\n",
    "\n",
    "import time\n",
    "import warnings\n",
    "warnings.filterwarnings(\"ignore\")\n",
    "\n",
    "import matplotlib.pyplot as plt\n",
    "import pandas as pd\n",
    "import pickle\n",
    "import copy\n",
    "from keras import backend as K\n",
    "K.clear_session()\n",
    "    \n",
    "try:\n",
    "    physical_devices = tf.config.experimental.list_physical_devices('GPU')\n",
    "    tf.config.experimental.set_memory_growth(physical_devices[0], True)\n",
    "\n",
    "    physical_devices = tf.config.list_physical_devices('GPU')\n",
    "    tf.config.experimental.set_memory_growth(physical_devices[0], enable=True)\n",
    "except Exception:\n",
    "    print('GPU error')"
   ]
  },
  {
   "cell_type": "code",
   "execution_count": 2,
   "metadata": {
    "executionInfo": {
     "elapsed": 1645,
     "status": "aborted",
     "timestamp": 1602318324666,
     "user": {
      "displayName": "Сергей Довгань",
      "photoUrl": "https://lh3.googleusercontent.com/a-/AOh14Gh3MZ2GUNo7qvuOUXjppWtslpJefb5Bk2H8pvQgsg=s64",
      "userId": "11204475592062912374"
     },
     "user_tz": -180
    },
    "id": "6RbjeiDPLohs"
   },
   "outputs": [],
   "source": [
    "#как сделать запись в файл? Перегони в картинку, её перегони в верный формат."
   ]
  },
  {
   "cell_type": "code",
   "execution_count": 3,
   "metadata": {
    "executionInfo": {
     "elapsed": 1639,
     "status": "aborted",
     "timestamp": 1602318324668,
     "user": {
      "displayName": "Сергей Довгань",
      "photoUrl": "https://lh3.googleusercontent.com/a-/AOh14Gh3MZ2GUNo7qvuOUXjppWtslpJefb5Bk2H8pvQgsg=s64",
      "userId": "11204475592062912374"
     },
     "user_tz": -180
    },
    "id": "kvcT0WIHLoh3"
   },
   "outputs": [],
   "source": [
    "#(224, 224, 3) - размеры resnet101, resnet 101v2"
   ]
  },
  {
   "cell_type": "code",
   "execution_count": 4,
   "metadata": {
    "executionInfo": {
     "elapsed": 711,
     "status": "ok",
     "timestamp": 1602319602312,
     "user": {
      "displayName": "Сергей Довгань",
      "photoUrl": "https://lh3.googleusercontent.com/a-/AOh14Gh3MZ2GUNo7qvuOUXjppWtslpJefb5Bk2H8pvQgsg=s64",
      "userId": "11204475592062912374"
     },
     "user_tz": -180
    },
    "id": "1YLJp4MJLoie"
   },
   "outputs": [],
   "source": [
    "black_square = np.zeros((224, 224, 3))"
   ]
  },
  {
   "cell_type": "code",
   "execution_count": 5,
   "metadata": {
    "colab": {
     "base_uri": "https://localhost:8080/",
     "height": 397
    },
    "executionInfo": {
     "elapsed": 2872,
     "status": "error",
     "timestamp": 1602319652606,
     "user": {
      "displayName": "Сергей Довгань",
      "photoUrl": "https://lh3.googleusercontent.com/a-/AOh14Gh3MZ2GUNo7qvuOUXjppWtslpJefb5Bk2H8pvQgsg=s64",
      "userId": "11204475592062912374"
     },
     "user_tz": -180
    },
    "id": "7vwiA2PMLojM",
    "outputId": "f78ed97b-ab9b-4a55-aae3-aa6450f7b9ba"
   },
   "outputs": [
    {
     "name": "stdout",
     "output_type": "stream",
     "text": [
      "_____ 2021-07-20 10:29:32.329274\n"
     ]
    }
   ],
   "source": [
    "EPISODES=300\n",
    "\n",
    "print('_____',pd.Timestamp.now())\n",
    "#здесь весь код от инициализации модели до выдачи scores.\n",
    "# In case of CartPole-v1, maximum length of episode is 500\n",
    "\n",
    "#env = jet_table_simple.jet_table_simple_env()\n",
    "#env = gym.make('Seaquest-ramNoFrameskip-v0')\n",
    "#env = gym.make('BattleZone-ram-v0')\n",
    "#env = gym.make('Robotank-ram-v0')\n",
    "env = gym.make('Pong-v0')\n",
    "#env = gym.make('Breakout-ram-v0')\n",
    "#env = gym.make('SpaceInvaders-ram-v0')\n",
    "#env = gym.make('MsPacman-ram-v0')\n",
    "#env=CartPoleEnv9()\n",
    "#env = aa_gun.AA_gun_simple0_env()\n",
    "# get size of state and action from environment\n",
    "state_size = env.observation_space.shape[0]\n",
    "action_size = env.action_space.n"
   ]
  },
  {
   "cell_type": "code",
   "execution_count": 6,
   "metadata": {},
   "outputs": [],
   "source": [
    "#np.shape(state) # (150, 200, 3)world model mse"
   ]
  },
  {
   "cell_type": "code",
   "execution_count": 7,
   "metadata": {},
   "outputs": [
    {
     "name": "stdout",
     "output_type": "stream",
     "text": [
      "Model: \"functional_1\"\n",
      "__________________________________________________________________________________________________\n",
      "Layer (type)                    Output Shape         Param #     Connected to                     \n",
      "==================================================================================================\n",
      "input_1 (InputLayer)            [(None, 120, 30)]    0                                            \n",
      "__________________________________________________________________________________________________\n",
      "input_2 (InputLayer)            [(None, 120, 6)]     0                                            \n",
      "__________________________________________________________________________________________________\n",
      "input_3 (InputLayer)            [(None, 120, 6)]     0                                            \n",
      "__________________________________________________________________________________________________\n",
      "x0 (TimeDistributed)            (None, 120, 140)     4340        input_1[0][0]                    \n",
      "__________________________________________________________________________________________________\n",
      "x3 (TimeDistributed)            (None, 120, 16)      112         input_2[0][0]                    \n",
      "__________________________________________________________________________________________________\n",
      "x3_ (TimeDistributed)           (None, 120, 16)      112         input_3[0][0]                    \n",
      "__________________________________________________________________________________________________\n",
      "x1 (TimeDistributed)            (None, 120, 140)     19740       x0[0][0]                         \n",
      "__________________________________________________________________________________________________\n",
      "x4 (TimeDistributed)            (None, 120, 16)      272         x3[0][0]                         \n",
      "__________________________________________________________________________________________________\n",
      "x4_ (TimeDistributed)           (None, 120, 16)      272         x3_[0][0]                        \n",
      "__________________________________________________________________________________________________\n",
      "flatten (Flatten)               (None, 16800)        0           x1[0][0]                         \n",
      "__________________________________________________________________________________________________\n",
      "flatten_1 (Flatten)             (None, 1920)         0           x4[0][0]                         \n",
      "__________________________________________________________________________________________________\n",
      "flatten_2 (Flatten)             (None, 1920)         0           x4_[0][0]                        \n",
      "__________________________________________________________________________________________________\n",
      "x2 (Dense)                      (None, 1300)         21841300    flatten[0][0]                    \n",
      "__________________________________________________________________________________________________\n",
      "dense_7 (Dense)                 (None, 300)          576300      flatten_1[0][0]                  \n",
      "__________________________________________________________________________________________________\n",
      "dense_10 (Dense)                (None, 380)          729980      flatten_2[0][0]                  \n",
      "__________________________________________________________________________________________________\n",
      "concatenate (Concatenate)       (None, 1980)         0           x2[0][0]                         \n",
      "                                                                 dense_7[0][0]                    \n",
      "                                                                 dense_10[0][0]                   \n",
      "__________________________________________________________________________________________________\n",
      "bottleneck (Dense)              (None, 1650)         3268650     concatenate[0][0]                \n",
      "__________________________________________________________________________________________________\n",
      "dense_11 (Dense)                (None, 10080)        16642080    bottleneck[0][0]                 \n",
      "__________________________________________________________________________________________________\n",
      "reshape (Reshape)               (None, 120, 84)      0           dense_11[0][0]                   \n",
      "__________________________________________________________________________________________________\n",
      "time_distributed (TimeDistribut (None, 120, 84)      7140        reshape[0][0]                    \n",
      "__________________________________________________________________________________________________\n",
      "time_distributed_1 (TimeDistrib (None, 120, 30)      2550        time_distributed[0][0]           \n",
      "==================================================================================================\n",
      "Total params: 43,092,848\n",
      "Trainable params: 43,092,848\n",
      "Non-trainable params: 0\n",
      "__________________________________________________________________________________________________\n",
      "WARNING:tensorflow:Callbacks method `on_train_batch_end` is slow compared to the batch time (batch time: 0.0796s vs `on_train_batch_end` time: 0.1674s). Check your callbacks.\n",
      "2/2 - 0s - loss: 0.3163\n",
      "30 batch_normalization_16\n",
      "31 conv2d_2\n",
      "32 leaky_re_lu_6\n",
      "33 dropout_16\n",
      "34 reshape_2\n",
      "35 batch_normalization_17\n",
      "36 dense_26\n",
      "37 leaky_re_lu_7\n",
      "38 batch_normalization_18\n",
      "39 dense_27\n",
      "40 leaky_re_lu_8\n",
      "41 dropout_17\n",
      "42 reshape_3\n",
      "43 batch_normalization_19\n",
      "44 conv2d_transpose\n",
      "45 leaky_re_lu_9\n",
      "46 dropout_18\n",
      "47 reshape_4\n",
      "48 time_distributed_2\n",
      "49 time_distributed_3\n",
      "50 dropout_19\n",
      "51 leaky_re_lu_10\n",
      "52 time_distributed_4\n",
      "53 time_distributed_5\n",
      "54 leaky_re_lu_11\n",
      "55 dropout_20\n",
      "56 time_distributed_6\n",
      "57 time_distributed_7\n",
      "58 time_distributed_8\n",
      "59 leaky_re_lu_12\n",
      "Model: \"functional_3\"\n",
      "__________________________________________________________________________________________________\n",
      "Layer (type)                    Output Shape         Param #     Connected to                     \n",
      "==================================================================================================\n",
      "input_1 (InputLayer)            [(None, 120, 30)]    0                                            \n",
      "__________________________________________________________________________________________________\n",
      "input_2 (InputLayer)            [(None, 120, 6)]     0                                            \n",
      "__________________________________________________________________________________________________\n",
      "input_3 (InputLayer)            [(None, 120, 6)]     0                                            \n",
      "__________________________________________________________________________________________________\n",
      "x0 (TimeDistributed)            (None, 120, 140)     4340        input_1[0][0]                    \n",
      "__________________________________________________________________________________________________\n",
      "x3 (TimeDistributed)            (None, 120, 16)      112         input_2[0][0]                    \n",
      "__________________________________________________________________________________________________\n",
      "x3_ (TimeDistributed)           (None, 120, 16)      112         input_3[0][0]                    \n",
      "__________________________________________________________________________________________________\n",
      "x1 (TimeDistributed)            (None, 120, 140)     19740       x0[0][0]                         \n",
      "__________________________________________________________________________________________________\n",
      "x4 (TimeDistributed)            (None, 120, 16)      272         x3[0][0]                         \n",
      "__________________________________________________________________________________________________\n",
      "x4_ (TimeDistributed)           (None, 120, 16)      272         x3_[0][0]                        \n",
      "__________________________________________________________________________________________________\n",
      "flatten (Flatten)               (None, 16800)        0           x1[0][0]                         \n",
      "__________________________________________________________________________________________________\n",
      "flatten_1 (Flatten)             (None, 1920)         0           x4[0][0]                         \n",
      "__________________________________________________________________________________________________\n",
      "flatten_2 (Flatten)             (None, 1920)         0           x4_[0][0]                        \n",
      "__________________________________________________________________________________________________\n",
      "x2 (Dense)                      (None, 1300)         21841300    flatten[0][0]                    \n",
      "__________________________________________________________________________________________________\n",
      "dense_7 (Dense)                 (None, 300)          576300      flatten_1[0][0]                  \n",
      "__________________________________________________________________________________________________\n",
      "dense_10 (Dense)                (None, 380)          729980      flatten_2[0][0]                  \n",
      "__________________________________________________________________________________________________\n",
      "concatenate (Concatenate)       (None, 1980)         0           x2[0][0]                         \n",
      "                                                                 dense_7[0][0]                    \n",
      "                                                                 dense_10[0][0]                   \n",
      "__________________________________________________________________________________________________\n",
      "bottleneck (Dense)              (None, 1650)         3268650     concatenate[0][0]                \n",
      "__________________________________________________________________________________________________\n",
      "dense_11 (Dense)                (None, 10080)        16642080    bottleneck[0][0]                 \n",
      "__________________________________________________________________________________________________\n",
      "reshape (Reshape)               (None, 120, 84)      0           dense_11[0][0]                   \n",
      "__________________________________________________________________________________________________\n",
      "time_distributed (TimeDistribut (None, 120, 84)      7140        reshape[0][0]                    \n",
      "__________________________________________________________________________________________________\n",
      "time_distributed_1 (TimeDistrib (None, 120, 30)      2550        time_distributed[0][0]           \n",
      "==================================================================================================\n",
      "Total params: 43,092,848\n",
      "Trainable params: 43,092,848\n",
      "Non-trainable params: 0\n",
      "__________________________________________________________________________________________________\n"
     ]
    }
   ],
   "source": [
    "importlib.reload(autoencoder_rl_wrapper)\n",
    "#sarsa = a2c.A2CAgent(state_size=30, action_size=action_size)\n",
    "#sarsa = sarsa_agent.SarsaAgent_RND(state_size=30, action_size=action_size,deque_len=5000)\n",
    "#sarsa = model_based.ModelBasedAgent(state_size=30, action_size=action_size,deque_len=6000)\n",
    "#sarsa = dreamer.DreamerAgent(state_size=30, action_size=action_size,deque_len=7000)\n",
    "#sarsa = dreamer_sarsa_filtering.DreamerAgent(state_size=30, action_size=action_size,deque_len=7000)\n",
    "#sarsa = dreamer_sarsa_filtering_curio.DreamerAgent(state_size=30, action_size=action_size,deque_len=7000)\n",
    "#sarsa = random_agent.randomAgent(state_size=30, action_size=action_size)\n",
    "sarsa = dreamer_light.DreamerAgent(state_size=30, action_size=action_size,deque_len=7000)\n",
    "\n",
    "agent = autoencoder_rl_wrapper.AutoencoderRLWrapper(state_size, action_size, encoder_layers_count=1, \n",
    "                                                    path_to_network='encoder_rl_events.h5', \n",
    "                                                    x_path=['./data/x68.pkl'],y_path=['./data/y_pic68.pkl'])\n",
    "sarsa.parent = agent\n",
    "sarsa.higher_level = agent\n",
    "agent.add_deeper_rl(sarsa)\n",
    "agent.render=True\n",
    "\n",
    "scores, episodes = [], []\n",
    "agent.epsilon = 1\n",
    "t = 0\n",
    "action = 2\n",
    "frames = deque(maxlen=2000)\n",
    "#sarsa.raw_buffer = frames"
   ]
  },
  {
   "cell_type": "code",
   "execution_count": 8,
   "metadata": {},
   "outputs": [],
   "source": [
    "#state=5 - на 10м эпизоде всё ещё не обучилась world model\n",
    "#state=5, sargen делает 1 точку"
   ]
  },
  {
   "cell_type": "code",
   "execution_count": null,
   "metadata": {
    "scrolled": true
   },
   "outputs": [
    {
     "name": "stdout",
     "output_type": "stream",
     "text": [
      "reward -1.0\n",
      "reward -1.0\n",
      "reward -1.0\n",
      "reward -1.0\n",
      "reward -1.0\n",
      "reward -1.0\n",
      "reward -1.0\n",
      "reward -1.0\n",
      "reward -1.0\n",
      "reward 1.0\n",
      "reward -1.0\n",
      "reward -1.0\n",
      "reward -1.0\n",
      "reward -1.0\n",
      "reward -1.0\n",
      "reward -1.0\n",
      "reward -1.0\n",
      "reward -1.0\n",
      "reward -1.0\n",
      "reward -1.0\n",
      "reward -1.0\n",
      "reward -1.0\n"
     ]
    },
    {
     "data": {
      "image/png": "[encoded data removed]",
      "text/plain": [
       "<Figure size 432x288 with 1 Axes>"
      ]
     },
     "metadata": {
      "needs_background": "light"
     },
     "output_type": "display_data"
    },
    {
     "name": "stdout",
     "output_type": "stream",
     "text": [
      "episode: 0   score: -20.0 -20.0   epsilon: 0.009979391231462048 t: 1316\n",
      "dont dream: not fit\n",
      "reward -1.0\n",
      "reward -1.0\n",
      "reward -1.0\n",
      "reward -1.0\n",
      "reward -1.0\n",
      "reward -1.0\n",
      "reward -1.0\n",
      "reward -1.0\n",
      "reward -1.0\n",
      "reward -1.0\n",
      "reward 1.0\n",
      "reward 1.0\n",
      "reward -1.0\n",
      "reward -1.0\n",
      "reward -1.0\n",
      "reward -1.0\n",
      "reward -1.0\n",
      "reward -1.0\n",
      "reward -1.0\n",
      "reward -1.0\n",
      "reward -1.0\n",
      "reward -1.0\n",
      "reward -1.0\n"
     ]
    },
    {
     "data": {
      "image/png": "[encoded data removed]",
      "text/plain": [
       "<Figure size 432x288 with 1 Axes>"
      ]
     },
     "metadata": {
      "needs_background": "light"
     },
     "output_type": "display_data"
    },
    {
     "name": "stdout",
     "output_type": "stream",
     "text": [
      "episode: 1   score: -19.0 -19.5   epsilon: 0.009979391231462048 t: 2905\n",
      "dont dream: not fit\n",
      "reward -1.0\n",
      "reward -1.0\n",
      "reward -1.0\n",
      "reward -1.0\n",
      "reward -1.0\n",
      "reward -1.0\n",
      "reward -1.0\n",
      "reward -1.0\n",
      "reward -1.0\n",
      "reward -1.0\n",
      "reward -1.0\n",
      "reward -1.0\n",
      "reward -1.0\n",
      "reward -1.0\n",
      "reward -1.0\n",
      "reward -1.0\n",
      "reward 1.0\n",
      "reward -1.0\n",
      "reward -1.0\n",
      "reward -1.0\n",
      "reward -1.0\n",
      "reward -1.0\n"
     ]
    },
    {
     "data": {
      "image/png": "[encoded data removed]",
      "text/plain": [
       "<Figure size 432x288 with 1 Axes>"
      ]
     },
     "metadata": {
      "needs_background": "light"
     },
     "output_type": "display_data"
    },
    {
     "name": "stdout",
     "output_type": "stream",
     "text": [
      "episode: 2   score: -20.0 -19.666666666666668   epsilon: 0.009979391231462048 t: 4235\n",
      "dont dream: not fit\n",
      "reward -1.0\n",
      "reward -1.0\n",
      "reward -1.0\n",
      "reward 1.0\n",
      "reward -1.0\n",
      "reward -1.0\n",
      "reward -1.0\n",
      "reward -1.0\n",
      "reward -1.0\n",
      "reward -1.0\n",
      "reward -1.0\n",
      "reward 1.0\n",
      "reward -1.0\n",
      "reward -1.0\n",
      "reward -1.0\n",
      "reward -1.0\n",
      "reward -1.0\n"
     ]
    }
   ],
   "source": [
    "stop_train = False\n",
    "for e in range(EPISODES):\n",
    "    done = False\n",
    "    score = 0\n",
    "\n",
    "    state = env.reset()\n",
    "    state = state/255.\n",
    "    while not done:\n",
    "        t += 1\n",
    "        # get action for the current state and go one step in environment\n",
    "        act_verbose = np.random.rand()<0\n",
    "        action = agent.get_action(state,act_verbose)\n",
    "        \n",
    "        next_state, reward, done, info = env.step(action)\n",
    "        if reward!=0:\n",
    "            print('reward',reward,flush=True)\n",
    "        \n",
    "        next_state = next_state\n",
    "        frames.append(next_state)\n",
    "        \n",
    "        agent.append_sample(state, action, reward, next_state, done)\n",
    "\n",
    "        agent.train_model()\n",
    "        score += reward\n",
    "        state = next_state\n",
    "\n",
    "        if done:\n",
    "            # every episode, plot the play time\n",
    "            scores.append(score)\n",
    "            episodes.append(e)\n",
    "            plt.plot(episodes, scores, 'b')\n",
    "            plt.show()\n",
    "            #pylab.savefig(\"./save_graph/aa_gun_dqn.png\")\n",
    "\n",
    "            print(\"episode:\", e, \"  score:\", score,np.mean(scores), \"  epsilon:\", sarsa.epsilon, 't:', t,flush=True)\n",
    "            agent.update_target_model()"
   ]
  },
  {
   "cell_type": "code",
   "execution_count": null,
   "metadata": {},
   "outputs": [],
   "source": [
    "agent.update_target_model()"
   ]
  },
  {
   "cell_type": "code",
   "execution_count": null,
   "metadata": {},
   "outputs": [],
   "source": [
    "reward = np.array(sarsa.r)"
   ]
  },
  {
   "cell_type": "code",
   "execution_count": null,
   "metadata": {},
   "outputs": [],
   "source": [
    "#pong\n",
    "#у рандома -20.09 (не верю, повторить) -20.34 -20.30\n",
    "#sarsa\n",
    "#Model based \n",
    "#Dreamer \n",
    "#Dreamer sarsa: \n",
    "#Dreamer sarsa filtered:\n",
    "#Dreamer rnd: -20.18\n"
   ]
  },
  {
   "cell_type": "code",
   "execution_count": null,
   "metadata": {},
   "outputs": [],
   "source": [
    "#сохранить последний раунд\n",
    "from PIL import Image\n",
    "d_sz = len(sarsa.done)\n",
    "d_where=np.where(sarsa.done)[0]\n",
    "inverced_index=d_where-d_sz\n",
    "print(inverced_index)\n",
    "\n",
    "imgs = [Image.fromarray(frames[i]) for i in range(inverced_index[-2]+1,inverced_index[-1])]\n",
    "# duration is the number of milliseconds between frames; this is 40 frames per second\n",
    "imgs[0].save(\"pong_dreamer_light.gif\", save_all=True, append_images=imgs[1:], duration=1/20, loop=0)"
   ]
  },
  {
   "cell_type": "code",
   "execution_count": null,
   "metadata": {},
   "outputs": [],
   "source": [
    "#сохранить вообще всё\n",
    "from PIL import Image\n",
    "imgs = [Image.fromarray(frames[i]) for i in range(0,len(frames))]\n",
    "# duration is the number of milliseconds between frames; this is 40 frames per second\n",
    "imgs[0].save(\"pong.gif\", save_all=True, append_images=imgs[1:], duration=1/20, loop=0)"
   ]
  },
  {
   "cell_type": "code",
   "execution_count": null,
   "metadata": {},
   "outputs": [],
   "source": []
  }
 ],
 "metadata": {
  "colab": {
   "collapsed_sections": [],
   "name": "example_autoencoder_rl.ipynb",
   "provenance": []
  },
  "kernelspec": {
   "display_name": "Python 3",
   "language": "python",
   "name": "python3"
  },
  "language_info": {
   "codemirror_mode": {
    "name": "ipython",
    "version": 3
   },
   "file_extension": ".py",
   "mimetype": "text/x-python",
   "name": "python",
   "nbconvert_exporter": "python",
   "pygments_lexer": "ipython3",
   "version": "3.7.4"
  }
 },
 "nbformat": 4,
 "nbformat_minor": 1
}
