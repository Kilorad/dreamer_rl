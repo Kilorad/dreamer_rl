{
 "cells": [
  {
   "cell_type": "code",
   "execution_count": 1,
   "metadata": {
    "executionInfo": {
     "elapsed": 638,
     "status": "ok",
     "timestamp": 1602319586434,
     "user": {
      "displayName": "Сергей Довгань",
      "photoUrl": "https://lh3.googleusercontent.com/a-/AOh14Gh3MZ2GUNo7qvuOUXjppWtslpJefb5Bk2H8pvQgsg=s64",
      "userId": "11204475592062912374"
     },
     "user_tz": -180
    },
    "id": "GpmKtdv6Lohe"
   },
   "outputs": [
    {
     "name": "stderr",
     "output_type": "stream",
     "text": [
      "/home/sd/anaconda3/lib/python3.7/site-packages/sklearn/linear_model/least_angle.py:30: DeprecationWarning: `np.float` is a deprecated alias for the builtin `float`. To silence this warning, use `float` by itself. Doing this will not modify any behavior and is safe. If you specifically wanted the numpy scalar type, use `np.float64` here.\n",
      "Deprecated in NumPy 1.20; for more details and guidance: https://numpy.org/devdocs/release/1.20.0-notes.html#deprecations\n",
      "  method='lar', copy_X=True, eps=np.finfo(np.float).eps,\n",
      "/home/sd/anaconda3/lib/python3.7/site-packages/sklearn/linear_model/least_angle.py:167: DeprecationWarning: `np.float` is a deprecated alias for the builtin `float`. To silence this warning, use `float` by itself. Doing this will not modify any behavior and is safe. If you specifically wanted the numpy scalar type, use `np.float64` here.\n",
      "Deprecated in NumPy 1.20; for more details and guidance: https://numpy.org/devdocs/release/1.20.0-notes.html#deprecations\n",
      "  method='lar', copy_X=True, eps=np.finfo(np.float).eps,\n",
      "/home/sd/anaconda3/lib/python3.7/site-packages/sklearn/linear_model/least_angle.py:284: DeprecationWarning: `np.float` is a deprecated alias for the builtin `float`. To silence this warning, use `float` by itself. Doing this will not modify any behavior and is safe. If you specifically wanted the numpy scalar type, use `np.float64` here.\n",
      "Deprecated in NumPy 1.20; for more details and guidance: https://numpy.org/devdocs/release/1.20.0-notes.html#deprecations\n",
      "  eps=np.finfo(np.float).eps, copy_Gram=True, verbose=0,\n",
      "/home/sd/anaconda3/lib/python3.7/site-packages/sklearn/linear_model/least_angle.py:862: DeprecationWarning: `np.float` is a deprecated alias for the builtin `float`. To silence this warning, use `float` by itself. Doing this will not modify any behavior and is safe. If you specifically wanted the numpy scalar type, use `np.float64` here.\n",
      "Deprecated in NumPy 1.20; for more details and guidance: https://numpy.org/devdocs/release/1.20.0-notes.html#deprecations\n",
      "  eps=np.finfo(np.float).eps, copy_X=True, fit_path=True,\n",
      "/home/sd/anaconda3/lib/python3.7/site-packages/sklearn/linear_model/least_angle.py:1101: DeprecationWarning: `np.float` is a deprecated alias for the builtin `float`. To silence this warning, use `float` by itself. Doing this will not modify any behavior and is safe. If you specifically wanted the numpy scalar type, use `np.float64` here.\n",
      "Deprecated in NumPy 1.20; for more details and guidance: https://numpy.org/devdocs/release/1.20.0-notes.html#deprecations\n",
      "  eps=np.finfo(np.float).eps, copy_X=True, fit_path=True,\n",
      "/home/sd/anaconda3/lib/python3.7/site-packages/sklearn/linear_model/least_angle.py:1127: DeprecationWarning: `np.float` is a deprecated alias for the builtin `float`. To silence this warning, use `float` by itself. Doing this will not modify any behavior and is safe. If you specifically wanted the numpy scalar type, use `np.float64` here.\n",
      "Deprecated in NumPy 1.20; for more details and guidance: https://numpy.org/devdocs/release/1.20.0-notes.html#deprecations\n",
      "  eps=np.finfo(np.float).eps, positive=False):\n",
      "/home/sd/anaconda3/lib/python3.7/site-packages/sklearn/linear_model/least_angle.py:1362: DeprecationWarning: `np.float` is a deprecated alias for the builtin `float`. To silence this warning, use `float` by itself. Doing this will not modify any behavior and is safe. If you specifically wanted the numpy scalar type, use `np.float64` here.\n",
      "Deprecated in NumPy 1.20; for more details and guidance: https://numpy.org/devdocs/release/1.20.0-notes.html#deprecations\n",
      "  max_n_alphas=1000, n_jobs=None, eps=np.finfo(np.float).eps,\n",
      "/home/sd/anaconda3/lib/python3.7/site-packages/sklearn/linear_model/least_angle.py:1602: DeprecationWarning: `np.float` is a deprecated alias for the builtin `float`. To silence this warning, use `float` by itself. Doing this will not modify any behavior and is safe. If you specifically wanted the numpy scalar type, use `np.float64` here.\n",
      "Deprecated in NumPy 1.20; for more details and guidance: https://numpy.org/devdocs/release/1.20.0-notes.html#deprecations\n",
      "  max_n_alphas=1000, n_jobs=None, eps=np.finfo(np.float).eps,\n",
      "/home/sd/anaconda3/lib/python3.7/site-packages/sklearn/linear_model/least_angle.py:1738: DeprecationWarning: `np.float` is a deprecated alias for the builtin `float`. To silence this warning, use `float` by itself. Doing this will not modify any behavior and is safe. If you specifically wanted the numpy scalar type, use `np.float64` here.\n",
      "Deprecated in NumPy 1.20; for more details and guidance: https://numpy.org/devdocs/release/1.20.0-notes.html#deprecations\n",
      "  eps=np.finfo(np.float).eps, copy_X=True, positive=False):\n"
     ]
    },
    {
     "ename": "ModuleNotFoundError",
     "evalue": "No module named 'clusterized_graph_sa'",
     "output_type": "error",
     "traceback": [
      "\u001b[0;31m---------------------------------------------------------------------------\u001b[0m",
      "\u001b[0;31mModuleNotFoundError\u001b[0m                       Traceback (most recent call last)",
      "\u001b[0;32m<ipython-input-1-c2a830adef41>\u001b[0m in \u001b[0;36m<module>\u001b[0;34m\u001b[0m\n\u001b[1;32m     11\u001b[0m \u001b[0;32mimport\u001b[0m \u001b[0mpylab\u001b[0m\u001b[0;34m\u001b[0m\u001b[0;34m\u001b[0m\u001b[0m\n\u001b[1;32m     12\u001b[0m \u001b[0;32mimport\u001b[0m \u001b[0mrandom\u001b[0m\u001b[0;34m\u001b[0m\u001b[0;34m\u001b[0m\u001b[0m\n\u001b[0;32m---> 13\u001b[0;31m \u001b[0;32mimport\u001b[0m \u001b[0msarsa_agent\u001b[0m\u001b[0;34m,\u001b[0m \u001b[0mclusterized_graph_sa\u001b[0m\u001b[0;34m,\u001b[0m \u001b[0mclusterized_ql_sa\u001b[0m\u001b[0;34m,\u001b[0m \u001b[0mmulty_ac_evol\u001b[0m\u001b[0;34m,\u001b[0m \u001b[0ma2c\u001b[0m\u001b[0;34m,\u001b[0m\u001b[0mmodel_based\u001b[0m\u001b[0;34m,\u001b[0m\u001b[0mdreamer\u001b[0m\u001b[0;34m,\u001b[0m\u001b[0mdreamer_sarsa\u001b[0m\u001b[0;34m,\u001b[0m\u001b[0mdreamer_sarsa_filtering\u001b[0m\u001b[0;34m,\u001b[0m\u001b[0mdreamer_sarsa_filtering_curio\u001b[0m\u001b[0;34m,\u001b[0m\u001b[0mdreamer_light\u001b[0m\u001b[0;34m\u001b[0m\u001b[0;34m\u001b[0m\u001b[0m\n\u001b[0m\u001b[1;32m     14\u001b[0m \u001b[0;32mimport\u001b[0m \u001b[0mrandom_agent\u001b[0m\u001b[0;34m\u001b[0m\u001b[0;34m\u001b[0m\u001b[0m\n\u001b[1;32m     15\u001b[0m \u001b[0;32mimport\u001b[0m \u001b[0maa_gun\u001b[0m\u001b[0;34m,\u001b[0m\u001b[0mjet_table_simple\u001b[0m\u001b[0;34m\u001b[0m\u001b[0;34m\u001b[0m\u001b[0m\n",
      "\u001b[0;31mModuleNotFoundError\u001b[0m: No module named 'clusterized_graph_sa'"
     ]
    }
   ],
   "source": [
    "import sys\n",
    "import os\n",
    "import importlib\n",
    "#root = './drive/My Drive/Colab Notebooks/rl/'\n",
    "root = './'\n",
    "sys.path.insert(1, root + 'env')\n",
    "sys.path.insert(1, root + 'agents')\n",
    "sys.path.insert(1, root + 'common')\n",
    "\n",
    "import gym\n",
    "import pylab\n",
    "import random\n",
    "import sarsa_agent, model_based,dreamer,dreamer_sarsa,dreamer_sarsa_filtering,dreamer_sarsa_filtering_curio,dreamer_light\n",
    "import random_agent\n",
    "import numpy as np\n",
    "from collections import deque\n",
    "import tensorflow as tf\n",
    "import tensorflow.keras as keras\n",
    "from agents import autoencoder_rl_wrapper\n",
    "\n",
    "import time\n",
    "import warnings\n",
    "warnings.filterwarnings(\"ignore\")\n",
    "\n",
    "import matplotlib.pyplot as plt\n",
    "import pandas as pd\n",
    "import pickle\n",
    "import copy\n",
    "from keras import backend as K\n",
    "K.clear_session()\n",
    "    \n",
    "try:\n",
    "    physical_devices = tf.config.experimental.list_physical_devices('GPU')\n",
    "    tf.config.experimental.set_memory_growth(physical_devices[0], True)\n",
    "\n",
    "    physical_devices = tf.config.list_physical_devices('GPU')\n",
    "    tf.config.experimental.set_memory_growth(physical_devices[0], enable=True)\n",
    "except Exception:\n",
    "    print('GPU error')"
   ]
  },
  {
   "cell_type": "code",
   "execution_count": null,
   "metadata": {
    "colab": {
     "base_uri": "https://localhost:8080/",
     "height": 205
    },
    "executionInfo": {
     "elapsed": 300770,
     "status": "ok",
     "timestamp": 1602319324307,
     "user": {
      "displayName": "Сергей Довгань",
      "photoUrl": "https://lh3.googleusercontent.com/a-/AOh14Gh3MZ2GUNo7qvuOUXjppWtslpJefb5Bk2H8pvQgsg=s64",
      "userId": "11204475592062912374"
     },
     "user_tz": -180
    },
    "id": "rYwEk2lipCWy",
    "outputId": "432ce7f1-044c-4051-bfae-9b0a33f23d1b"
   },
   "outputs": [],
   "source": [
    "#!sudo apt-get install build-essential zlib1g-dev libsdl2-dev libjpeg-dev \\\n",
    "#nasm tar libbz2-dev libgtk2.0-dev cmake git libfluidsynth-dev libgme-dev \\\n",
    "#libopenal-dev timidity libwildmidi-dev unzip\n",
    "#!sudo apt-get install libboost-all-dev\n",
    "#!pip install vizdoom"
   ]
  },
  {
   "cell_type": "code",
   "execution_count": null,
   "metadata": {
    "executionInfo": {
     "elapsed": 1645,
     "status": "aborted",
     "timestamp": 1602318324666,
     "user": {
      "displayName": "Сергей Довгань",
      "photoUrl": "https://lh3.googleusercontent.com/a-/AOh14Gh3MZ2GUNo7qvuOUXjppWtslpJefb5Bk2H8pvQgsg=s64",
      "userId": "11204475592062912374"
     },
     "user_tz": -180
    },
    "id": "6RbjeiDPLohs"
   },
   "outputs": [],
   "source": [
    "#как сделать запись в файл? Перегони в картинку, её перегони в верный формат."
   ]
  },
  {
   "cell_type": "code",
   "execution_count": null,
   "metadata": {
    "executionInfo": {
     "elapsed": 1639,
     "status": "aborted",
     "timestamp": 1602318324668,
     "user": {
      "displayName": "Сергей Довгань",
      "photoUrl": "https://lh3.googleusercontent.com/a-/AOh14Gh3MZ2GUNo7qvuOUXjppWtslpJefb5Bk2H8pvQgsg=s64",
      "userId": "11204475592062912374"
     },
     "user_tz": -180
    },
    "id": "kvcT0WIHLoh3"
   },
   "outputs": [],
   "source": [
    "#(224, 224, 3) - размеры resnet101, resnet 101v2"
   ]
  },
  {
   "cell_type": "code",
   "execution_count": null,
   "metadata": {
    "executionInfo": {
     "elapsed": 674,
     "status": "ok",
     "timestamp": 1602319600340,
     "user": {
      "displayName": "Сергей Довгань",
      "photoUrl": "https://lh3.googleusercontent.com/a-/AOh14Gh3MZ2GUNo7qvuOUXjppWtslpJefb5Bk2H8pvQgsg=s64",
      "userId": "11204475592062912374"
     },
     "user_tz": -180
    },
    "id": "Q4RqCrHQLoiO"
   },
   "outputs": [],
   "source": [
    "# Creates and initializes ViZDoom environment.\n",
    "def initialize_vizdoom(config_file_path,doom_map=\"map01\"):\n",
    "    print(\"Initializing doom...\")\n",
    "    game = DoomGame()\n",
    "    game.load_config(config_file_path)\n",
    "    game.set_doom_map(doom_map)\n",
    "    game.set_screen_format(ScreenFormat.RGB24)\n",
    "    game.set_screen_resolution(ScreenResolution.RES_200X150)\n",
    "    game.set_depth_buffer_enabled(True)\n",
    "    # Enables depth buffer.\n",
    "    game.set_depth_buffer_enabled(True)\n",
    "    # Enables labeling of in game objects labeling.\n",
    "    game.set_labels_buffer_enabled(True)\n",
    "    # Enables buffer with top down map of the current episode/level.\n",
    "    game.set_automap_buffer_enabled(True)\n",
    "    # Enables information about all objects present in the current episode/level.\n",
    "    #game.set_objects_info_enabled(True)\n",
    "    # Enables information about all sectors (map layout).\n",
    "    #game.set_sectors_info_enabled(True)\n",
    "    # Sets other rendering options (all of these options except crosshair are enabled (set to True) by default)\n",
    "    game.set_render_hud(True)\n",
    "    game.set_render_minimal_hud(False)  # If hud is enabled\n",
    "    game.set_render_crosshair(False)\n",
    "    game.set_render_weapon(True)\n",
    "    game.set_render_decals(False)  # Bullet holes and blood on the walls\n",
    "    game.set_render_particles(False)\n",
    "    game.set_render_effects_sprites(True)  # Smoke and blood\n",
    "    game.set_render_messages(False)  # In-game messages\n",
    "    game.set_render_corpses(True)\n",
    "    game.set_render_screen_flashes(True)  # Effect upon taking damage or picking up items\n",
    "    # Adds buttons that will be allowed.\n",
    "    lst_acts = [Button.ATTACK,Button.USE,Button.MOVE_LEFT,Button.MOVE_RIGHT,Button.MOVE_FORWARD,Button.MOVE_BACKWARD,Button.TURN_LEFT,Button.TURN_RIGHT]#,Button.SELECT_NEXT_WEAPON]\n",
    "    for action in lst_acts:\n",
    "        game.add_available_button(action)\n",
    "    # Adds game variables that will be included in state.\n",
    "    game.add_available_game_variable(GameVariable.AMMO2)\n",
    "    game.add_available_game_variable(GameVariable.HEALTH)\n",
    "    game.add_available_game_variable(GameVariable.FRAGCOUNT)\n",
    "    game.add_available_game_variable(GameVariable.KILLCOUNT)\n",
    "    game.add_available_game_variable(GameVariable.ITEMCOUNT)\n",
    "    game.add_available_game_variable(GameVariable.HITCOUNT)\n",
    "    # Causes episodes to finish after 200 tics (actions)\n",
    "    game.set_episode_timeout(1000)\n",
    "    # Makes episodes start after 10 tics (~after raising the weapon)\n",
    "    game.set_episode_start_time(10)\n",
    "    # Makes the window appear (turned on by default)\n",
    "    game.set_window_visible(True)\n",
    "    # Turns on the sound. (turned off by default)\n",
    "    game.set_sound_enabled(False)\n",
    "    # Sets the living reward (for each move) to -1\n",
    "    game.set_living_reward(1)\n",
    "    # Sets ViZDoom mode (PLAYER, ASYNC_PLAYER, SPECTATOR, ASYNC_SPECTATOR, PLAYER mode is default)\n",
    "    game.set_mode(Mode.PLAYER)\n",
    "    # Enables engine output to console.\n",
    "    #game.set_console_enabled(True)\n",
    "    # Initialize the game. Further configuration won't take any effect from now on.\n",
    "    time.sleep(1)\n",
    "    game.init()\n",
    "    print(\"Doom initialized.\")\n",
    "    return game"
   ]
  },
  {
   "cell_type": "code",
   "execution_count": null,
   "metadata": {
    "executionInfo": {
     "elapsed": 711,
     "status": "ok",
     "timestamp": 1602319602312,
     "user": {
      "displayName": "Сергей Довгань",
      "photoUrl": "https://lh3.googleusercontent.com/a-/AOh14Gh3MZ2GUNo7qvuOUXjppWtslpJefb5Bk2H8pvQgsg=s64",
      "userId": "11204475592062912374"
     },
     "user_tz": -180
    },
    "id": "1YLJp4MJLoie"
   },
   "outputs": [],
   "source": [
    "black_square = np.zeros((224, 224, 3))"
   ]
  },
  {
   "cell_type": "code",
   "execution_count": null,
   "metadata": {
    "colab": {
     "base_uri": "https://localhost:8080/",
     "height": 397
    },
    "executionInfo": {
     "elapsed": 2872,
     "status": "error",
     "timestamp": 1602319652606,
     "user": {
      "displayName": "Сергей Довгань",
      "photoUrl": "https://lh3.googleusercontent.com/a-/AOh14Gh3MZ2GUNo7qvuOUXjppWtslpJefb5Bk2H8pvQgsg=s64",
      "userId": "11204475592062912374"
     },
     "user_tz": -180
    },
    "id": "7vwiA2PMLojM",
    "outputId": "f78ed97b-ab9b-4a55-aae3-aa6450f7b9ba"
   },
   "outputs": [],
   "source": [
    "EPISODES=3000\n",
    "doom=1\n",
    "\n",
    "print('_____',pd.Timestamp.now())\n",
    "#здесь весь код от инициализации модели до выдачи scores.\n",
    "# In case of CartPole-v1, maximum length of episode is 500\n",
    "\n",
    "#env = jet_table_simple.jet_table_simple_env()\n",
    "#env = gym.make('Seaquest-ramNoFrameskip-v0')\n",
    "#env = gym.make('BattleZone-ram-v0')\n",
    "#env = gym.make('Robotank-ram-v0')\n",
    "#env = gym.make('Pong-ram-v0')\n",
    "if doom:\n",
    "    #basic\n",
    "    #map02 - фаерболы, немного\n",
    "    #04 - лостсоул\n",
    "    #06 - мобы с огнестрелом и с фаерболами #2.1 в среднем от рандома\n",
    "    #10 - мобы с огнестрелом и фаерболами, перепад высот, деревья. Дальняя перестрелка\n",
    "    #11 - мобы с огнестрелом, аптечки\n",
    "    #26 - мобы с огнестрелом, патроны\n",
    "    #27 - телепорт,оружие, вероятно, мобы. Всё закрыто\n",
    "    #doom2\n",
    "    #1 - 2 зомбаря\n",
    "    #2 - 3 зомбаря\n",
    "    #3 - импы, зомби\n",
    "    #5 - двустволка, мегаздоровье, зомби по бокам на выходе из комнатки\n",
    "    #6 - зомби, импы, ревенант\n",
    "    #9 - кислота, целей не вижу, но за что-то дают награды, видимо, враги всё же есть поблизости\n",
    "    #11 - много зомби, кислота\n",
    "    #13 - прилично врагов, в том числе импы и арахнотрон\n",
    "    #env = initialize_vizdoom(root + 'doom_files/scenarios/doom2.cfg',doom_map=\"map11\")\n",
    "    #env = initialize_vizdoom(root + 'doom_files/scenarios/doom2.cfg',doom_map=\"map05\")\n",
    "    #env = initialize_vizdoom(root + 'doom_files/scenarios/defend_the_center.cfg',doom_map=\"map01\")\n",
    "    env = initialize_vizdoom(root + 'doom_files/scenarios/basic.cfg',doom_map=\"map06\")\n",
    "    #[Button.MOVE_LEFT,Button.MOVE_RIGHT,Button.MOVE_FORWARD,Button.MOVE_BACKWARD,Button.TURN_LEFT,Button.TURN_RIGHT,Button.ATTACK,Button.USE ]\n",
    "    # 0 - не делать ничего\n",
    "    actions = [[0,0,0,0,0,0,0,0],[1,0,0,0,0,0,0,0], [0,1,0,0,0,0,0,0], [0,0,1,0,0,0,0,0], [0,0,0,1,0,0,0,0], [0,0,0,0,1,0,0,0], [0,0,0,0,0,1,0,0], [0,0,0,0,0,0,1,0],[0,0,0,0,0,0,0,1]]\n",
    "#env = gym.make('Breakout-ram-v0')\n",
    "#env = gym.make('SpaceInvaders-ram-v0')\n",
    "#env = gym.make('MsPacman-ram-v0')\n",
    "#env=CartPoleEnv9()\n",
    "#env = aa_gun.AA_gun_simple0_env()\n",
    "# get size of state and action from environment\n",
    "if doom:\n",
    "    #state_size = env.get_screen_size()\n",
    "    state_size = (env.get_screen_height(),env.get_screen_width(),3)\n",
    "else:\n",
    "    state_size = env.observation_space.shape[0]\n",
    "if doom:\n",
    "    action_size = len(actions)\n",
    "else:\n",
    "    action_size = env.action_space.n"
   ]
  },
  {
   "cell_type": "code",
   "execution_count": null,
   "metadata": {},
   "outputs": [],
   "source": [
    "#np.shape(state) # (150, 200, 3)world model mse"
   ]
  },
  {
   "cell_type": "code",
   "execution_count": null,
   "metadata": {},
   "outputs": [],
   "source": [
    "importlib.reload(autoencoder_rl_wrapper)\n",
    "#importlib.reload(autoencoder_rl_wrapper2)\n",
    "#sarsa = a2c.A2CAgent(state_size=30, action_size=action_size)\n",
    "#sarsa = sarsa_agent.SarsaAgent_RND(state_size=30, action_size=action_size,deque_len=5000)\n",
    "#sarsa = model_based.ModelBasedAgent(state_size=30, action_size=action_size,deque_len=6000)\n",
    "#sarsa = dreamer.DreamerAgent(state_size=30, action_size=action_size,deque_len=7000)\n",
    "#sarsa = dreamer_sarsa_filtering.DreamerAgent(state_size=30, action_size=action_size,deque_len=7000)\n",
    "#sarsa = dreamer_sarsa_filtering_curio.DreamerAgent(state_size=30, action_size=action_size,deque_len=7000)\n",
    "sarsa = dreamer_light.DreamerAgent(state_size=30, action_size=action_size,deque_len=7000)\n",
    "#sarsa = random_agent.randomAgent(state_size=30, action_size=action_size)\n",
    "\n",
    "agent = autoencoder_rl_wrapper.AutoencoderRLWrapper(state_size, action_size, encoder_layers_count=1, \n",
    "                                                    path_to_network='encoder_rl_events.h5', \n",
    "                                                    x_path=['./data/x68.pkl'],y_path=['./data/y_pic68.pkl'])\n",
    "sarsa.parent = agent\n",
    "sarsa.higher_level = agent\n",
    "agent.add_deeper_rl(sarsa)\n",
    "agent.render=True\n",
    "\n",
    "scores, episodes = [], []\n",
    "agent.epsilon = 1\n",
    "t = 0\n",
    "action = 2\n",
    "frames = deque(maxlen=3000)\n",
    "#sarsa.raw_buffer = frames"
   ]
  },
  {
   "cell_type": "code",
   "execution_count": null,
   "metadata": {},
   "outputs": [],
   "source": [
    "#state=5 - на 10м эпизоде всё ещё не обучилась world model\n",
    "#state=5, sargen делает 1 точку"
   ]
  },
  {
   "cell_type": "code",
   "execution_count": null,
   "metadata": {
    "scrolled": true
   },
   "outputs": [],
   "source": [
    "stop_train = False\n",
    "for e in range(EPISODES):\n",
    "    done = False\n",
    "    score = 0\n",
    "    if doom:\n",
    "        env.new_episode()\n",
    "        state = env.get_state().screen_buffer\n",
    "    else:\n",
    "        state = env.reset()\n",
    "    state = np.reshape(state, [state_size[0], state_size[1], state_size[2]])/255.\n",
    "    \n",
    "    kills = 0\n",
    "    items = 0\n",
    "    health = 100\n",
    "    hits = 0\n",
    "    explain_mode = 0\n",
    "    while not done:\n",
    "        t += 1\n",
    "        # get action for the current state and go one step in environment\n",
    "        act_verbose = np.random.rand()<0.003\n",
    "        action = agent.get_action(state,act_verbose)\n",
    "        if doom:\n",
    "            t1 = pd.Timestamp.now()\n",
    "            reward = env.make_action(actions[action])\n",
    "            reward = env.get_game_variable(GameVariable.KILLCOUNT)-kills#я считаю как хочу\n",
    "            reward += (env.get_game_variable(GameVariable.ITEMCOUNT)-items)*0.1\n",
    "            reward += (env.get_game_variable(GameVariable.HITCOUNT)-hits)*0.15\n",
    "            reward += (env.get_game_variable(GameVariable.HEALTH)-health)*0.005\n",
    "            kills = env.get_game_variable(GameVariable.KILLCOUNT)\n",
    "            items = env.get_game_variable(GameVariable.ITEMCOUNT)\n",
    "            health = env.get_game_variable(GameVariable.HEALTH)\n",
    "            hits = env.get_game_variable(GameVariable.HITCOUNT)\n",
    "            if reward!=0:\n",
    "                print('reward',reward,flush=True)\n",
    "            try:\n",
    "                next_state = env.get_state().screen_buffer\n",
    "            except Exception:\n",
    "                print('cannot parse frame')\n",
    "            frames.append(next_state)\n",
    "            next_state = np.reshape(next_state, [state_size[0], state_size[1], state_size[2]])\n",
    "            done = env.is_episode_finished() or env.is_player_dead()\n",
    "            t2 = pd.Timestamp.now()\n",
    "            #if env.is_player_dead():\n",
    "            #    reward = -100\n",
    "        else:\n",
    "            next_state, reward, done, info = env.step(action)\n",
    "        \n",
    "        next_state = np.reshape(next_state, [state_size[0], state_size[1], state_size[2]])\n",
    "        agent.append_sample(state, action, reward, next_state, done)\n",
    "        if not stop_train:\n",
    "            agent.train_model()\n",
    "        score += reward\n",
    "        state = next_state\n",
    "        \n",
    "        if doom:\n",
    "            if env.is_player_dead():\n",
    "                # Use this to respawn immediately after death, new state will be available.\n",
    "                env.respawn_player()\n",
    "\n",
    "        if done:\n",
    "            # every episode, plot the play time\n",
    "            scores.append(score)\n",
    "            episodes.append(e)\n",
    "            plt.plot(episodes, scores, 'b')\n",
    "            plt.show()\n",
    "            #pylab.savefig(\"./save_graph/aa_gun_dqn.png\")\n",
    "\n",
    "            print(\"episode:\", e, \"  score:\", score,np.mean(scores), \"  epsilon:\", sarsa.epsilon, 't:', t, 'KILLS',kills,'HITS',hits,'ITEMS',items,flush=True)\n",
    "            if not stop_train:\n",
    "                agent.update_target_model()"
   ]
  },
  {
   "cell_type": "code",
   "execution_count": null,
   "metadata": {},
   "outputs": [],
   "source": [
    "len(sarsa.s)"
   ]
  },
  {
   "cell_type": "code",
   "execution_count": null,
   "metadata": {},
   "outputs": [],
   "source": [
    "reward = np.array(sarsa.r)"
   ]
  },
  {
   "cell_type": "code",
   "execution_count": null,
   "metadata": {},
   "outputs": [],
   "source": [
    "#(root + 'doom_files/scenarios/basic.cfg',doom_map=\"map06\")\n",
    "#2.0296 - у рандома\n",
    "#sarsa\n",
    "#3.05 прямо на первых 20 итерациях, больше не знаю, медлительно работает\n",
    "#Model based (3 шага по 40 тактов вперёд): 2.1-2.5. Дальше долго работает\n",
    "#Model based (2 шага по 70 тактов вперёд): 2.23, 2.11\n",
    "#Dreamer: 2.6\n",
    "#Dreamer sarsa: \n",
    "#Dreamer sarsa filtered: 2.41, 2.23,2.8, 2.4\n",
    "#Dreamer rnd:2.7, 2.8\n",
    "\n",
    "\n",
    "#(root + 'doom_files/scenarios/doom2.cfg',doom_map=\"map05\")\n",
    "#0.9811999999999999 у рандома\n",
    "#sarsa\n",
    "#0.64 прямо на первых 100 итерациях, больше не знаю, медлительно работает. Отстой\n",
    "#Model based (2 шага по 70 тактов вперёд): 1.04\n",
    "#Model based (2 шага по 70 тактов вперёд): 1.01,0.73\n",
    "#Dreamer 1.27\n",
    "#Dreamer sarsa: 1.17\n",
    "#Dreamer sarsa filtered: 1.21,1.02, 1.3\n",
    "#Dreamer rnd:1.23\n",
    "\n",
    "\n",
    "#random,0.9752000000000001,defend_the_center,map01\n",
    "#1.36 у A2C\n",
    "#3.8 у sarsa уже на 17 эпизодах\n",
    "#1.588 у sarsa на 90 эпизодах, и он не очень стабильно работал\n",
    "#sarsa 1.53\n",
    "#Model based (2 шага по 70 тактов вперёд): 1.1\n",
    "#Model based (2 шага по 70 тактов вперёд): 1.25, 1.6\n",
    "#dreamer-sarsa: 1.01, 1.33, 1.17\n",
    "#Dreamer sarsa filtered: 1.38\n",
    "#Dreamer rnd: 1.07, 1.04\n",
    "\n",
    "#doom2 map30\n",
    "#sarsa -0.014600000000000161\n",
    "\n",
    "#doom2 map11\n",
    "#random 0.15\n",
    "#dreamer-rnd 0.21\n",
    "#sarsa -0.05\n"
   ]
  },
  {
   "cell_type": "code",
   "execution_count": null,
   "metadata": {},
   "outputs": [],
   "source": [
    "#сохранить последний раунд\n",
    "from PIL import Image\n",
    "d_sz = len(sarsa.done)\n",
    "d_where=np.where(sarsa.done)[0]\n",
    "inverced_index=d_where-d_sz\n",
    "print(inverced_index)\n",
    "\n",
    "imgs = [Image.fromarray(frames[i]) for i in range(inverced_index[-2]+1,inverced_index[-1])]\n",
    "# duration is the number of milliseconds between frames; this is 40 frames per second\n",
    "imgs[0].save(\"round.gif\", save_all=True, append_images=imgs[1:], duration=1/20, loop=0)"
   ]
  },
  {
   "cell_type": "code",
   "execution_count": null,
   "metadata": {},
   "outputs": [],
   "source": []
  },
  {
   "cell_type": "code",
   "execution_count": null,
   "metadata": {},
   "outputs": [],
   "source": []
  }
 ],
 "metadata": {
  "colab": {
   "collapsed_sections": [],
   "name": "example_autoencoder_rl.ipynb",
   "provenance": []
  },
  "kernelspec": {
   "display_name": "Python 3",
   "language": "python",
   "name": "python3"
  },
  "language_info": {
   "codemirror_mode": {
    "name": "ipython",
    "version": 3
   },
   "file_extension": ".py",
   "mimetype": "text/x-python",
   "name": "python",
   "nbconvert_exporter": "python",
   "pygments_lexer": "ipython3",
   "version": "3.7.4"
  }
 },
 "nbformat": 4,
 "nbformat_minor": 1
}
